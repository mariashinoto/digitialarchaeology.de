{
  "cells": [
    {
      "cell_type": "markdown",
      "metadata": {},
      "source": [
        "# Über dieses Buch\n",
        "\n",
        "## Anlass\n",
        "\n",
        "Digital Humanities und digitale Anwendungen in den archäologischen Fächern sind im ständigen Umbruch begriffen -- es ist schwer, hier eine Übersicht zu behalten und auf aktuellem Stand zu bleiben. Dieses Buch soll Konstanten herausarbeiten, damit es leichter fällt, in Neuem das grundsätzlich Gültige wiederzuerkennen und sich ohne Umwege so weit anzupassen wie notwendig.\n",
        "\n",
        "## Versionen\n",
        "\n",
        "- Begonnen September 2023, Outline.\n",
        "\n",
        "\n",
        "## Links und Zitierweise\n",
        "\n",
        "\n",
        "Maria Shinoto. (2023). Digitale Archäologie - Werkzeuge und Konzepte im Wandel. [https://mariashinoto.github.com/digitialarchaeology.de]. https://doi.org/10.5281/zenodo.8342718\n",
        "\n",
        "\n",
        "\n",
        "```{bibtex}\n",
        "@book{maria_shinoto_2023_8342718,\n",
        "  author       = {Maria Shinoto},\n",
        "  title        = {{Digitale Archäologie - Werkzeuge und Konzepte im Wandel (mariashinoto/digitialarchaeology.de)}},\n",
        "  publisher    = {Zenodo},\n",
        "  year         = 2023,\n",
        "  month        = sep,\n",
        "  doi          = {10.5281/zenodo.8342718},\n",
        "  url          = {https://mariashinoto.github.com/digitialarchaeology.de}\n",
        "}\n",
        "```\n",
        "\n",
        "\n",
        "## Über die Autorin\n",
        "\n",
        "- Privatdozentin am Institut für Ur- und Frühgeschichte und Vorderasiatische Archäologie, Zentrum für Altertumswissenschaften, Universität Heidelberg.\n",
        "  - Korrespondierendes Mitglied am Deutschen Archäologischen Institut\n",
        "  - Gastprofessorin an der Beppu University, Japan\n",
        "- Webseiten: \n",
        "  - [Institutsseite](https://www.uni-heidelberg.de/fakultaeten/philosophie/zaw/ufg/mitarbeiter/shinoto_maria.html)\n",
        "  - [Eigene Webseite](https://ac.shinoto.net)\n",
        "- Arbeitsschwerpunkte: \n",
        "  - Japanische Archäologie\n",
        "  - Keramik\n",
        "  - Digitale Anwendungen, insbesondere Statistik und Klassifikation"
      ],
      "id": "254102e3"
    }
  ],
  "metadata": {
    "kernelspec": {
      "display_name": "Python 3",
      "language": "python",
      "name": "python3"
    }
  },
  "nbformat": 4,
  "nbformat_minor": 5
}